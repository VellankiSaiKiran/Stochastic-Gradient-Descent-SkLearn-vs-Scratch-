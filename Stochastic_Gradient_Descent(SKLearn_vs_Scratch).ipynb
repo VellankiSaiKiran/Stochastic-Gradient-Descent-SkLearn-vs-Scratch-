{
  "cells": [
    {
      "cell_type": "code",
      "execution_count": 7,
      "metadata": {
        "id": "REYPoTJ1Af7u"
      },
      "outputs": [],
      "source": [
        "import warnings\n",
        "warnings.filterwarnings(\"ignore\")\n",
        "from random import seed\n",
        "from random import randrange\n",
        "from csv import reader\n",
        "from math import sqrt\n",
        "import numpy as np\n",
        "import pandas as pd\n",
        "import matplotlib.pyplot as plt\n",
        "from sklearn.linear_model import SGDRegressor\n",
        "from sklearn import preprocessing\n",
        "from sklearn.metrics import mean_squared_error\n",
        "import time"
      ]
    },
    {
      "cell_type": "code",
      "source": [
        "data_url = \"http://lib.stat.cmu.edu/datasets/boston\"\n",
        "raw_df = pd.read_csv(data_url, sep=\"\\s+\", skiprows=22, header=None)\n",
        "X = np.hstack([raw_df.values[::2, :], raw_df.values[1::2, :2]])\n",
        "Y = raw_df.values[1::2, 2]"
      ],
      "metadata": {
        "id": "8F_Rwh6bH7wo"
      },
      "execution_count": 8,
      "outputs": []
    },
    {
      "cell_type": "code",
      "execution_count": 9,
      "metadata": {
        "colab": {
          "base_uri": "https://localhost:8080/"
        },
        "id": "nfJJkUcPGz-i",
        "outputId": "7ff7b2a8-2150-4a78-b367-0ad01988d17f"
      },
      "outputs": [
        {
          "output_type": "stream",
          "name": "stdout",
          "text": [
            "(506, 13)\n"
          ]
        }
      ],
      "source": [
        "print(X.shape)\n",
        "# 506 samples and 13 features"
      ]
    },
    {
      "cell_type": "code",
      "execution_count": 10,
      "metadata": {
        "colab": {
          "base_uri": "https://localhost:8080/"
        },
        "id": "gjsSF5RfGz-i",
        "outputId": "f19554ef-2cc4-4049-b7f4-3ac3a20c6d88"
      },
      "outputs": [
        {
          "output_type": "stream",
          "name": "stdout",
          "text": [
            "Mean : 70.07396704469443\n",
            "Max  : 711.0\n",
            "Min  : 0.0\n"
          ]
        }
      ],
      "source": [
        "print(\"Mean : {}\".format(X.mean()))\n",
        "print(\"Max  : {}\".format(X.max()))\n",
        "print(\"Min  : {}\".format(X.min()))"
      ]
    },
    {
      "cell_type": "code",
      "execution_count": 11,
      "metadata": {
        "colab": {
          "base_uri": "https://localhost:8080/"
        },
        "id": "Bohoh40qGz-j",
        "outputId": "2a912651-5e14-4220-b304-2a1c7eb328ac"
      },
      "outputs": [
        {
          "output_type": "stream",
          "name": "stdout",
          "text": [
            "(506,)\n"
          ]
        }
      ],
      "source": [
        "print(Y.shape)\n",
        "# Target is the house price in each sample"
      ]
    },
    {
      "cell_type": "code",
      "execution_count": 12,
      "metadata": {
        "id": "FgUW39s6Be0U"
      },
      "outputs": [],
      "source": [
        "# scaling the data for faster gradient descent\n",
        "scaler = preprocessing.StandardScaler().fit(X)\n",
        "X = scaler.transform(X)"
      ]
    },
    {
      "cell_type": "code",
      "execution_count": 15,
      "metadata": {
        "colab": {
          "base_uri": "https://localhost:8080/"
        },
        "id": "K8rHTd59Gz-j",
        "outputId": "6044ff92-2cc5-4eb3-ac57-4e2a07bdce0d"
      },
      "outputs": [
        {
          "output_type": "stream",
          "name": "stdout",
          "text": [
            "Mean : -1.658077074174147e-16\n",
            "Max  : 9.933930601860267\n",
            "Min  : -3.9071933049810412\n"
          ]
        }
      ],
      "source": [
        "print(\"Mean : {}\".format(X.mean()))\n",
        "print(\"Max  : {}\".format(X.max()))\n",
        "print(\"Min  : {}\".format(X.min()))"
      ]
    },
    {
      "cell_type": "code",
      "execution_count": 17,
      "metadata": {
        "colab": {
          "base_uri": "https://localhost:8080/"
        },
        "id": "HNu1sXtEBBS2",
        "outputId": "dbc22f23-f53d-4874-9da4-fbc84da4fbb2"
      },
      "outputs": [
        {
          "output_type": "stream",
          "name": "stdout",
          "text": [
            "21.91895714461863\n"
          ]
        }
      ],
      "source": [
        "clf = SGDRegressor()\n",
        "clf.fit(X, Y)\n",
        "print(mean_squared_error(Y, clf.predict(X)))"
      ]
    },
    {
      "cell_type": "markdown",
      "metadata": {
        "id": "aLMWqsO0Gz-k"
      },
      "source": [
        "#### Implementing our own gradient descent function"
      ]
    },
    {
      "cell_type": "code",
      "execution_count": 19,
      "metadata": {
        "id": "1oxzykA-Gz-l"
      },
      "outputs": [],
      "source": [
        "samples = X.shape[0]\n",
        "iterations = 300"
      ]
    },
    {
      "cell_type": "code",
      "execution_count": 22,
      "metadata": {
        "id": "qgaTVaXDGz-l"
      },
      "outputs": [],
      "source": [
        "# Adding the 'bias' column with the features columns\n",
        "X = np.c_[np.ones(samples), X]"
      ]
    },
    {
      "cell_type": "code",
      "execution_count": 23,
      "metadata": {
        "id": "P6xbh5F2Gz-l"
      },
      "outputs": [],
      "source": [
        "# shuffle data X and Y\n",
        "# https://stackoverflow.com/questions/4601373/better-way-to-shuffle-two-numpy-arrays-in-unison\n",
        "randomize = np.arange(len(X))\n",
        "np.random.shuffle(randomize)\n",
        "X = X[randomize]\n",
        "Y = Y[randomize]"
      ]
    },
    {
      "cell_type": "code",
      "execution_count": 24,
      "metadata": {
        "id": "2oqm4YgRGz-m"
      },
      "outputs": [],
      "source": [
        "Y = Y.reshape(Y.shape[0], 1)"
      ]
    },
    {
      "cell_type": "code",
      "execution_count": 25,
      "metadata": {
        "colab": {
          "base_uri": "https://localhost:8080/"
        },
        "id": "96j9o_K5Gz-m",
        "outputId": "11a02db7-c2d2-4bd3-8e1f-146500331584"
      },
      "outputs": [
        {
          "output_type": "execute_result",
          "data": {
            "text/plain": [
              "(506, 14)"
            ]
          },
          "metadata": {},
          "execution_count": 25
        }
      ],
      "source": [
        "X.shape"
      ]
    },
    {
      "cell_type": "code",
      "execution_count": 27,
      "metadata": {
        "id": "50y2QSabGz-m"
      },
      "outputs": [],
      "source": [
        "def gradient_descent(X, Y, learning_rate=0.01, iterations=400, batch_Size=0):\n",
        "    # Perform sanity checks to ensure input data is correctly shaped\n",
        "    assert(Y.shape == (X.shape[0], 1))  # Ensure Y is a column vector matching X's number of samples\n",
        "    assert(batch_Size >= 0)  # Ensure batch_Size is non-negative\n",
        "\n",
        "    samples = X.shape[0]  # Total number of samples in the dataset\n",
        "\n",
        "    start = time.time()  # Start timing the execution of the function\n",
        "\n",
        "    # Initialize theta (parameters) randomly for all features including bias\n",
        "    theta = np.random.randn(X.shape[1], 1)\n",
        "    # Initialize an array to record the cost (loss) values at each iteration\n",
        "    cost_hist = np.zeros(iterations)\n",
        "\n",
        "    for i_num in range(iterations):\n",
        "        # Case for Gradient Descent: use all data\n",
        "        if batch_Size == 0:\n",
        "            prediction = np.dot(X, theta)  # Calculate predictions for the current theta\n",
        "            # Update theta by subtracting the gradient scaled by the learning rate\n",
        "            theta -= (1/samples) * learning_rate * np.dot(X.T, prediction - Y)\n",
        "            # Recalculate predictions and compute the cost (mean squared error)\n",
        "            prediction = np.dot(X, theta)\n",
        "            cost_hist[i_num] = np.sum(np.square(prediction - Y)) / (2 * samples)\n",
        "\n",
        "        # Case for Stochastic Gradient Descent: use one sample at a time\n",
        "        elif batch_Size == 1:\n",
        "            cost = 0.0\n",
        "            for s in range(samples):  # Iterate through each sample\n",
        "                X_i = X[s, :].reshape(1, X.shape[1])  # Get the current sample's features\n",
        "                Y_i = Y[s].reshape(1, 1)  # Get the current sample's target value\n",
        "                prediction = np.dot(X_i, theta)  # Make a prediction for the current sample\n",
        "                # Update theta for the current sample\n",
        "                theta -= learning_rate * np.dot(X_i.T, prediction - Y_i)\n",
        "                # Recalculate prediction and compute the cost for the current sample\n",
        "                prediction = np.dot(X_i, theta)\n",
        "                cost += np.sum(np.square(prediction - Y_i)) / 2\n",
        "            cost_hist[i_num] = cost / samples  # Average cost over all samples\n",
        "\n",
        "        # Case for Mini-Batch Gradient Descent: use a subset of data\n",
        "        else:\n",
        "            cost = 0.0\n",
        "            n_batches = samples // batch_Size  # Determine the number of batches\n",
        "            batches = np.random.permutation(samples - batch_Size + 1)[:n_batches]\n",
        "            for bat in batches:  # Iterate over each batch\n",
        "                # Select the batch of data\n",
        "                X_i = X[bat: bat + batch_Size]\n",
        "                Y_i = Y[bat: bat + batch_Size]\n",
        "                prediction = np.dot(X_i, theta)  # Make predictions for the batch\n",
        "                # Update theta based on the batch's data\n",
        "                theta -= (1 / batch_Size) * learning_rate * np.dot(X_i.T, prediction - Y_i)\n",
        "                # Recalculate predictions and compute cost for the batch\n",
        "                prediction = np.dot(X_i, theta)\n",
        "                cost += np.sum(np.square(prediction - Y_i)) / (2 * batch_Size)\n",
        "            cost_hist[i_num] = cost / batch_Size  # Average cost over all batches\n",
        "\n",
        "    end = time.time()  # End timing the execution\n",
        "    print(\"Run time : {} ms\".format(round((end - start) * 1000, 2)))  # Print execution time\n",
        "\n",
        "    return theta, cost_hist  # Return the optimized parameters and the cost history\n"
      ]
    },
    {
      "cell_type": "code",
      "execution_count": 28,
      "metadata": {
        "colab": {
          "base_uri": "https://localhost:8080/"
        },
        "id": "U5jYgKNNGz-m",
        "outputId": "64984b23-eef9-4c0b-a2dc-9050a1822cd1"
      },
      "outputs": [
        {
          "output_type": "stream",
          "name": "stdout",
          "text": [
            "Run time : 33.65 ms\n"
          ]
        }
      ],
      "source": [
        "# Batch gradient descent\n",
        "theta_gd, cost_hist_gd = gradient_descent(X, Y,\n",
        "                        iterations=iterations, batch_Size=0)"
      ]
    },
    {
      "cell_type": "code",
      "execution_count": 29,
      "metadata": {
        "colab": {
          "base_uri": "https://localhost:8080/"
        },
        "id": "1GtfEpx0Gz-m",
        "outputId": "823f5954-5b2d-4ea2-a7cd-3bbed7a1b7cb"
      },
      "outputs": [
        {
          "output_type": "stream",
          "name": "stdout",
          "text": [
            "Run time : 3719.47 ms\n"
          ]
        }
      ],
      "source": [
        "# stochastic gradient descent\n",
        "theta_sgd, cost_hist_sgd = gradient_descent(X, Y,\n",
        "                        iterations=iterations, batch_Size=1)"
      ]
    },
    {
      "cell_type": "code",
      "execution_count": 30,
      "metadata": {
        "colab": {
          "base_uri": "https://localhost:8080/"
        },
        "id": "QyVFpGtaGz-m",
        "outputId": "510f96d7-f923-405e-fae1-0535c6a3182b"
      },
      "outputs": [
        {
          "output_type": "stream",
          "name": "stdout",
          "text": [
            "Run time : 108.34 ms\n"
          ]
        }
      ],
      "source": [
        "# mini-batch gradient descent\n",
        "theta_mbgd, cost_hist_mbgd = gradient_descent(X, Y,\n",
        "                        iterations=iterations, batch_Size=25)"
      ]
    },
    {
      "cell_type": "markdown",
      "metadata": {
        "id": "J9is1276Gz-m"
      },
      "source": [
        "####  Comparing the cost history graphs"
      ]
    },
    {
      "cell_type": "code",
      "execution_count": 31,
      "metadata": {
        "colab": {
          "base_uri": "https://localhost:8080/",
          "height": 718
        },
        "id": "4YyJaVlGGz-m",
        "outputId": "fe61bfd5-c08b-426a-93cd-ff54184a46d5"
      },
      "outputs": [
        {
          "output_type": "display_data",
          "data": {
            "text/plain": [
              "<Figure size 1000x800 with 1 Axes>"
            ],
            "image/png": "[encoded data removed]"
          },
          "metadata": {}
        }
      ],
      "source": [
        "# Plotting the cost values with iterations graph\n",
        "x_axis = range(iterations)\n",
        "plt.figure(figsize=(10.0, 8.0))\n",
        "markers_on = [i for i in range(iterations) if i%10 ==0]\n",
        "plt.plot(x_axis, cost_hist_gd, '-rx', markevery=markers_on,\n",
        "                     label='Batch GD', )\n",
        "plt.plot(x_axis, cost_hist_mbgd, '-gd', markevery=markers_on,\n",
        "                     label='Mini-Batch GD')\n",
        "plt.plot(x_axis, cost_hist_sgd, '-bo', markevery=markers_on,\n",
        "                     label='Stochastic GD')\n",
        "plt.xlabel(\"Number of Iterations\")\n",
        "plt.ylabel(\"Regression Loss\")\n",
        "plt.title(\"Loss with Iterations Graph\")\n",
        "plt.legend()\n",
        "plt.show()"
      ]
    },
    {
      "cell_type": "code",
      "execution_count": 32,
      "metadata": {
        "colab": {
          "base_uri": "https://localhost:8080/"
        },
        "id": "Fg0VbEM0Gz-n",
        "outputId": "a523a345-a132-4a5e-ea54-0654d2945fa0"
      },
      "outputs": [
        {
          "output_type": "stream",
          "name": "stdout",
          "text": [
            "21.99469035271588\n"
          ]
        }
      ],
      "source": [
        "clf = SGDRegressor()\n",
        "clf.fit(X, Y)\n",
        "pred_sklearnSGD = clf.predict(X)\n",
        "print(mean_squared_error(Y, pred_sklearnSGD))"
      ]
    },
    {
      "cell_type": "markdown",
      "metadata": {
        "id": "Ix-50XWbGz-n"
      },
      "source": [
        "#### Finding most optimal theta"
      ]
    },
    {
      "cell_type": "code",
      "execution_count": 33,
      "metadata": {
        "colab": {
          "base_uri": "https://localhost:8080/"
        },
        "id": "FzPBiwBdGz-n",
        "outputId": "9fdedd53-18f5-41dd-db95-50e7f5aa53bf"
      },
      "outputs": [
        {
          "output_type": "stream",
          "name": "stdout",
          "text": [
            "[[ 2.25328063e+01]\n",
            " [-9.28146064e-01]\n",
            " [ 1.08156863e+00]\n",
            " [ 1.40899997e-01]\n",
            " [ 6.81739725e-01]\n",
            " [-2.05671827e+00]\n",
            " [ 2.67423017e+00]\n",
            " [ 1.94660717e-02]\n",
            " [-3.10404426e+00]\n",
            " [ 2.66221764e+00]\n",
            " [-2.07678168e+00]\n",
            " [-2.06060666e+00]\n",
            " [ 8.49268418e-01]\n",
            " [-3.74362713e+00]]\n"
          ]
        }
      ],
      "source": [
        "# Since the number of features are not too large and our computational\n",
        "# power is sufficient, lets directly find the optimal value of theta by\n",
        "# using the vectorised normal equation\n",
        "\n",
        "theta_best = np.linalg.inv(X.T.dot(X)).dot(X.T).dot(Y)\n",
        "print(theta_best)"
      ]
    },
    {
      "cell_type": "code",
      "execution_count": 34,
      "metadata": {
        "colab": {
          "base_uri": "https://localhost:8080/"
        },
        "id": "w5291nytGz-n",
        "outputId": "89f580f7-9f1f-4760-96e3-2a48f75c0b57"
      },
      "outputs": [
        {
          "output_type": "stream",
          "name": "stdout",
          "text": [
            "Error from Optimal Theta : 21.894831181729206\n",
            "Error from Calculated Theta for Batch GD: 25.415635403626347\n",
            "Error from Calculated Theta for Mini-Batch GD: 21.995530990984378\n",
            "Error from Calculated Theta for Stochastic GD: 22.422176084792422\n",
            "Error from Calculated Theta for skLearn SGD: 21.99469035271588\n"
          ]
        }
      ],
      "source": [
        "# Lets compare the Cost value from our gradient descent functions and the\n",
        "# one we get using the most optimal theta value, 'theta_best'\n",
        "\n",
        "pred_best = X.dot(theta_best)\n",
        "print(\"Error from Optimal Theta : {}\".format(mean_squared_error(Y,\n",
        "                                    pred_best)))\n",
        "pred_gd = X.dot(theta_gd)\n",
        "print(\"Error from Calculated Theta for Batch GD: {}\".format(\n",
        "                                mean_squared_error(Y, pred_gd)))\n",
        "pred_mbgd = X.dot(theta_mbgd)\n",
        "print(\"Error from Calculated Theta for Mini-Batch GD: {}\".format(\n",
        "                                mean_squared_error(Y, pred_mbgd)))\n",
        "pred_sgd = X.dot(theta_sgd)\n",
        "print(\"Error from Calculated Theta for Stochastic GD: {}\".format(\n",
        "                                mean_squared_error(Y,pred_sgd)))\n",
        "\n",
        "print(\"Error from Calculated Theta for skLearn SGD: {}\".format(\n",
        "                                mean_squared_error(Y,pred_sklearnSGD)))"
      ]
    },
    {
      "cell_type": "code",
      "execution_count": 35,
      "metadata": {
        "colab": {
          "base_uri": "https://localhost:8080/"
        },
        "id": "E6Z2PVApGz-o",
        "outputId": "c8dd1c9b-4d2a-4b2b-97ae-58ccadbc3342"
      },
      "outputs": [
        {
          "output_type": "stream",
          "name": "stdout",
          "text": [
            "Comparing the weights from our SGD and skLearn Regressor: \n",
            "   1 :   22.62229753   -    11.28089313\n",
            "   2 :  -0.63572668   -   -0.86042478\n",
            "   3 :   1.13393462   -    0.98997786\n",
            "   4 :   0.02072067   -   -0.15103172\n",
            "   5 :   1.17306014   -    0.74115145\n",
            "   6 :  -2.10603468   -   -1.91627227\n",
            "   7 :   2.59562687   -    2.75672507\n",
            "   8 :  -0.06309510   -   -0.05560601\n",
            "   9 :  -2.93000153   -   -3.00006481\n",
            "  10 :   3.02681727   -    1.93508925\n",
            "  11 :  -2.63297470   -   -1.29639258\n",
            "  12 :  -2.12604138   -   -2.01130400\n",
            "  13 :   1.06222930   -    0.87540033\n",
            "  14 :  -3.54684460   -   -3.72860133\n"
          ]
        }
      ],
      "source": [
        "print(\"Comparing the weights from our SGD and skLearn Regressor: \")\n",
        "sklSGD = clf.coef_\n",
        "for i in range(len(sklSGD)):\n",
        "    print(\"  {0:2d} :  {1: 10.8f}   -   {2: 10.8f}\". format(\n",
        "                    i+1,\n",
        "                    theta_sgd[i][0],\n",
        "                    sklSGD[i]))"
      ]
    },
    {
      "cell_type": "markdown",
      "metadata": {
        "id": "wJ9RMRc8Gz-o"
      },
      "source": [
        "#### Comparing the predictions of our SGD, sklearn SGD and the actual Values"
      ]
    },
    {
      "cell_type": "code",
      "execution_count": 36,
      "metadata": {
        "colab": {
          "base_uri": "https://localhost:8080/",
          "height": 718
        },
        "id": "ziU5IWkAGz-o",
        "outputId": "486eb762-3b70-4784-afbe-028883f4fecf"
      },
      "outputs": [
        {
          "output_type": "display_data",
          "data": {
            "text/plain": [
              "<Figure size 1000x800 with 1 Axes>"
            ],
            "image/png": "[encoded data removed]"
          },
          "metadata": {}
        }
      ],
      "source": [
        "# Take 25 samples from the 506 samples\n",
        "x_axis = [i for i in range(samples) if i%20==0]\n",
        "plt.figure(figsize=(10.0, 8.0))\n",
        "plt.scatter(x_axis, Y[x_axis], marker='x',\n",
        "                    color='r', label='Actual Values')\n",
        "plt.scatter(x_axis, pred_sklearnSGD[x_axis], marker='o',\n",
        "                    color='b', label='Sklearn SGD')\n",
        "plt.scatter(x_axis, pred_sgd[x_axis], marker='d',\n",
        "                    color='g', label='Our SGD')\n",
        "plt.xlabel(\"Samples\")\n",
        "plt.ylabel(\"Predicted Values\")\n",
        "plt.title(\"Comparison of Predicted Prices\")\n",
        "plt.legend()\n",
        "plt.show()"
      ]
    },
    {
      "cell_type": "code",
      "execution_count": null,
      "metadata": {
        "id": "BW3RD0EvGz-o"
      },
      "outputs": [],
      "source": [
        "# Hence, we see we were able to beat the SGD regressor score but we couldn't\n",
        "# surpass the score we got from the optimal value of theta"
      ]
    },
    {
      "cell_type": "code",
      "execution_count": null,
      "metadata": {
        "id": "kXz5AZ4_Gz-p"
      },
      "outputs": [],
      "source": []
    }
  ],
  "metadata": {
    "colab": {
      "provenance": []
    },
    "kernelspec": {
      "display_name": "Python 3",
      "language": "python",
      "name": "python3"
    },
    "language_info": {
      "codemirror_mode": {
        "name": "ipython",
        "version": 3
      },
      "file_extension": ".py",
      "mimetype": "text/x-python",
      "name": "python",
      "nbconvert_exporter": "python",
      "pygments_lexer": "ipython3",
      "version": "3.7.3"
    }
  },
  "nbformat": 4,
  "nbformat_minor": 0
}